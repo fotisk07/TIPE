{
 "cells": [
  {
   "cell_type": "code",
   "execution_count": 1,
   "metadata": {},
   "outputs": [],
   "source": [
    "import numpy as np\n",
    "import cv2 \n",
    "%matplotlib inline\n",
    "from matplotlib import pyplot as plt\n",
    "from scipy import ndimage\n",
    "from numpy import linalg as LA\n",
    "import math as m"
   ]
  },
  {
   "cell_type": "code",
   "execution_count": 67,
   "metadata": {},
   "outputs": [],
   "source": [
    "cap = cv2.VideoCapture(\"videos/test.mp4\")\n",
    "angle = []\n",
    "\n",
    "# Check if the webcam is opened correctly\n",
    "if not cap.isOpened():\n",
    "    raise IOError(\"Cannot open webcam\")\n",
    "while cap.isOpened():\n",
    "    \n",
    "    ret, frame = cap.read()\n",
    "    if frame is None:\n",
    "        break\n",
    "        \n",
    "    frame = cv2.resize(frame,(720,720))\n",
    "    hsv_frame = cv2.cvtColor(frame, cv2.COLOR_BGR2HSV)\n",
    "    \n",
    "\n",
    "    #Binary thresholding\n",
    "    \n",
    "    binary_img_red = cv2.inRange(hsv_frame, (160, 100, 100), (180, 255, 255))\n",
    "    binary_img_yellow = cv2.inRange(hsv_frame, (30, 100, 100), (70, 255, 255))\n",
    "    binary_img_blue = cv2.inRange(hsv_frame, (70, 100, 100), (140, 255, 255))\n",
    "    \n",
    "    result = binary_img_red + binary_img_yellow + binary_img_blue\n",
    "    \n",
    "    # Vectorizing\n",
    "    point=np.zeros((720,720,3),np.uint8)\n",
    "    xblue,yblue = ndimage.measurements.center_of_mass(binary_img_blue)\n",
    "    xred,yred = ndimage.measurements.center_of_mass(binary_img_red)\n",
    "    xyellow,yyellow= (xred+20,300)\n",
    "   \n",
    "    # Cas Limites\n",
    "    if m.isnan(xblue) or m.isnan(yblue):\n",
    "        xblue = 0\n",
    "        yblue=0\n",
    "    if m.isnan(xred) or m.isnan(yred):\n",
    "        xred =0 \n",
    "        yred = 0\n",
    "    if m.isnan(yyellow) or m.isnan(xyellow):\n",
    "        yyellow = 0\n",
    "        xyellow =0\n",
    "    \n",
    "    # Points correspondants aux post-its\n",
    "    pointr = cv2.circle(point, (int(yred),int(xred)), radius=10, color=(0, 0, 255), thickness=-1)\n",
    "    pointb = cv2.circle(point, (int(yblue),int(xblue)), radius=10, color=(0, 0, 50), thickness=-1)\n",
    "    pointy = cv2.circle(point, (int(yyellow),int(xyellow)), radius=10, color=(0, 0, 150), thickness=-1)\n",
    "    \n",
    "    point_result = pointr + pointb + pointy\n",
    "    \n",
    "    # Vecteurs du bras\n",
    "    stationary = np.array([xyellow-xred, yyellow-yred])\n",
    "    moving = np.array([xblue-xred, yblue-yred])\n",
    "    \n",
    "    #Calcul de l'angle\n",
    "    angle.append(np.dot(stationary,moving)/ (LA.norm(stationary) * LA.norm(moving)))\n",
    "    cv2.imshow(\"Vectors\", point_result)\n",
    "    \n",
    "    #Pour arreter le traitement et sauvarder les images\n",
    "    if cv2.waitKey(1) == ord('q'):\n",
    "        cv2.imwrite(\"videos/Frame1.jpeg\", frame)\n",
    "        cv2.imwrite(\"videos/Hsv_Frame.jpeg\", hsv_frame)\n",
    "        cv2.imwrite(\"videos/result.jpeg\", result)\n",
    "        cv2.imwrite(\"videos/points.jpeg\", point_result)\n",
    "        break\n",
    "        \n",
    "        \n",
    "cap.release()\n",
    "cv2.destroyAllWindows()"
   ]
  },
  {
   "cell_type": "code",
   "execution_count": 18,
   "metadata": {},
   "outputs": [],
   "source": [
    "\n",
    "angle = np.arccos(angle)*180/np.pi\n",
    "np.save(\"real\", angle)"
   ]
  }
 ],
 "metadata": {
  "kernelspec": {
   "display_name": "Python 3",
   "language": "python",
   "name": "python3"
  },
  "language_info": {
   "codemirror_mode": {
    "name": "ipython",
    "version": 3
   },
   "file_extension": ".py",
   "mimetype": "text/x-python",
   "name": "python",
   "nbconvert_exporter": "python",
   "pygments_lexer": "ipython3",
   "version": "3.7.6"
  }
 },
 "nbformat": 4,
 "nbformat_minor": 4
}
